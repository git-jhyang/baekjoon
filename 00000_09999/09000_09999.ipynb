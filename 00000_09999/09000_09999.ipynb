{
 "cells": [
  {
   "cell_type": "markdown",
   "metadata": {},
   "source": [
    "## 9095 1, 2, 3 더하기 / DP"
   ]
  },
  {
   "cell_type": "markdown",
   "metadata": {},
   "source": [
    "정수 4를 1, 2, 3의 합으로 나타내는 방법은 총 7가지가 있다. 합을 나타낼 때는 수를 1개 이상 사용해야 한다.\n",
    "\n",
    "- 1+1+1+1\n",
    "- 1+1+2\n",
    "- 1+2+1\n",
    "- 2+1+1\n",
    "- 2+2\n",
    "- 1+3\n",
    "- 3+1\n",
    "\n",
    "정수 n이 주어졌을 때, n을 1, 2, 3의 합으로 나타내는 방법의 수를 구하는 프로그램을 작성하시오.\n",
    "\n",
    "- 입력\n",
    "  - 첫째 줄에 테스트 케이스의 개수 T가 주어진다. 각 테스트 케이스는 한 줄로 이루어져 있고, 정수 n이 주어진다. n은 양수이며 11보다 작다.\n",
    "\n",
    "- 출력\n",
    "  - 각 테스트 케이스마다, n을 1, 2, 3의 합으로 나타내는 방법의 수를 출력한다."
   ]
  },
  {
   "cell_type": "markdown",
   "metadata": {
    "vscode": {
     "languageId": "plaintext"
    }
   },
   "source": [
    "1 - 1\n",
    "\n",
    "2 - 11 / 2\n",
    "\n",
    "3 - 111 / 12 / 21 / 3\n",
    "\n",
    "4 - 1, 2, 3의 배열에 각 3, 2, 1 추가. 한쪽에만. 31 // 211 / 22 // 1111 / 112 / 121 / 13\n",
    "\n",
    "5 - 2, 3, 4의 배열에 각 3, 2, 1 추가. 한쪽에만. 311 / 32 // 2111 / 212 / 221 / 23 // 131 / 1211 / 122 / 11111 / 1112 / 1121 / 113\n",
    "\n",
    "-> A[n] = A[n-1] + A[n-2] + A[n-3]"
   ]
  },
  {
   "cell_type": "code",
   "execution_count": 11,
   "metadata": {},
   "outputs": [
    {
     "name": "stdout",
     "output_type": "stream",
     "text": [
      "[0, 1, 2, 4, 7, 13, 24, 44, 81, 149, 274]\n"
     ]
    }
   ],
   "source": [
    "import sys\n",
    "\n",
    "#inp = sys.stdin.readline\n",
    "inp = input\n",
    "\n",
    "n = int(inp())\n",
    "ns = []\n",
    "for i in range(n):\n",
    "    ns.append(int(inp()))\n",
    "\n",
    "output = [0, 1, 2, 4] + [0] * (max(ns) - 3)\n",
    "for i in range(4, max(ns)+1):\n",
    "    output[i] = output[i-3] + output[i-2] + output[i-1]\n",
    "for n_ in ns:\n",
    "    print(output[n_])\n",
    "    "
   ]
  },
  {
   "cell_type": "code",
   "execution_count": 6,
   "metadata": {},
   "outputs": [
    {
     "data": {
      "text/plain": [
       "3"
      ]
     },
     "execution_count": 6,
     "metadata": {},
     "output_type": "execute_result"
    }
   ],
   "source": [
    "max([1, 2, 3])"
   ]
  }
 ],
 "metadata": {
  "kernelspec": {
   "display_name": "baekjoon",
   "language": "python",
   "name": "python3"
  },
  "language_info": {
   "codemirror_mode": {
    "name": "ipython",
    "version": 3
   },
   "file_extension": ".py",
   "mimetype": "text/x-python",
   "name": "python",
   "nbconvert_exporter": "python",
   "pygments_lexer": "ipython3",
   "version": "3.10.13"
  }
 },
 "nbformat": 4,
 "nbformat_minor": 2
}
