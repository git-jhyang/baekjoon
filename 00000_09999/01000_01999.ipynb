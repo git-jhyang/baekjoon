{
 "cells": [
  {
   "cell_type": "markdown",
   "metadata": {},
   "source": [
    "## 1463 1로 만들기 *****"
   ]
  },
  {
   "cell_type": "markdown",
   "metadata": {},
   "source": [
    "정수 X에 사용할 수 있는 연산은 다음과 같이 세 가지 이다.\n",
    "\n",
    "- X가 3으로 나누어 떨어지면, 3으로 나눈다.\n",
    "- X가 2로 나누어 떨어지면, 2로 나눈다.\n",
    "- 1을 뺀다.\n",
    "\n",
    "정수 N이 주어졌을 때, 위와 같은 연산 세 개를 적절히 사용해서 1을 만들려고 한다. 연산을 사용하는 횟수의 최솟값을 출력하시오.\n",
    "\n",
    "- 입력\n",
    "  - 첫째 줄에 1보다 크거나 같고, 10^6보다 작거나 같은 정수 N이 주어진다.\n",
    " \n",
    "- 출력\n",
    "  - 첫째 줄에 연산을 하는 횟수의 최솟값을 출력한다."
   ]
  },
  {
   "cell_type": "code",
   "execution_count": 55,
   "metadata": {},
   "outputs": [
    {
     "name": "stdout",
     "output_type": "stream",
     "text": [
      "15\n"
     ]
    }
   ],
   "source": [
    "import sys\n",
    "\n",
    "#inp = sys.stdin.readline\n",
    "inp = input\n",
    "output = [0] * 100000\n",
    "output[1] = 0\n",
    "x = int(inp())\n",
    "\n",
    "def fnc(x):\n",
    "    global output\n",
    "    if x == 1:\n",
    "        return output[x]\n",
    "    elif x % 6 == 0:\n",
    "        output[x] = min(fnc(x // 3), fnc(x // 2)) + 1\n",
    "    elif x % 3 == 0:\n",
    "        output[x] = min(fnc(x // 3), fnc(x - 1)) + 1\n",
    "    elif x % 2 == 0:\n",
    "        output[x] = min(fnc(x // 2), fnc(x - 1)) + 1\n",
    "    else:\n",
    "        output[x] = fnc(x - 1) + 1\n",
    "    return output[x]\n",
    "print(fnc(x))"
   ]
  },
  {
   "cell_type": "code",
   "execution_count": 42,
   "metadata": {},
   "outputs": [
    {
     "data": {
      "text/plain": [
       "[0, 0, 1, 0, 0, 0, 0, 0, 0, 0]"
      ]
     },
     "execution_count": 42,
     "metadata": {},
     "output_type": "execute_result"
    }
   ],
   "source": [
    "a = [0]*10\n",
    "a[2] = 1\n",
    "a"
   ]
  },
  {
   "cell_type": "markdown",
   "metadata": {},
   "source": [
    "4  : 2 \n",
    "5  : 4 \n",
    "6  : 3 \n",
    "7  : 6 \n",
    "8  : 4 \n",
    "9  : 3 \n",
    "10 : 9 \n",
    "11 : 10 \n",
    "12 : 6\n",
    "13 : 12 \n",
    "14 : 7 \n",
    "15 : 5\n",
    "16 : 8\n",
    "17 : 16\n",
    "18 : 9 3 1 / 6 3 1\n",
    "19 : 18\n",
    "20 : 10\n",
    "24 : 12 6 3 1 / 8 4 2 1\n",
    "30 : 10 9 3 1 / 15 5 4 2 1 \n",
    "\n",
    "f(n) = min(f(n/2), f(n/3), f(n-1)) +1\n",
    "6배수, 3배수, 2배수의 경우를 나눠야 함.\n"
   ]
  },
  {
   "cell_type": "code",
   "execution_count": null,
   "metadata": {},
   "outputs": [],
   "source": [
    " \n"
   ]
  }
 ],
 "metadata": {
  "kernelspec": {
   "display_name": "baekjoon",
   "language": "python",
   "name": "python3"
  },
  "language_info": {
   "codemirror_mode": {
    "name": "ipython",
    "version": 3
   },
   "file_extension": ".py",
   "mimetype": "text/x-python",
   "name": "python",
   "nbconvert_exporter": "python",
   "pygments_lexer": "ipython3",
   "version": "3.10.13"
  }
 },
 "nbformat": 4,
 "nbformat_minor": 2
}
