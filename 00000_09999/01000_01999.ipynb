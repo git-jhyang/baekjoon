{
 "cells": [
  {
   "cell_type": "markdown",
   "metadata": {},
   "source": [
    "## 1463 1로 만들기"
   ]
  },
  {
   "cell_type": "markdown",
   "metadata": {},
   "source": [
    "정수 X에 사용할 수 있는 연산은 다음과 같이 세 가지 이다.\n",
    "\n",
    "- X가 3으로 나누어 떨어지면, 3으로 나눈다.\n",
    "- X가 2로 나누어 떨어지면, 2로 나눈다.\n",
    "- 1을 뺀다.\n",
    "\n",
    "정수 N이 주어졌을 때, 위와 같은 연산 세 개를 적절히 사용해서 1을 만들려고 한다. 연산을 사용하는 횟수의 최솟값을 출력하시오.\n",
    "\n",
    "- 입력\n",
    "  - 첫째 줄에 1보다 크거나 같고, 10^6보다 작거나 같은 정수 N이 주어진다.\n",
    " \n",
    "- 출력\n",
    "  - 첫째 줄에 연산을 하는 횟수의 최솟값을 출력한다."
   ]
  },
  {
   "cell_type": "code",
   "execution_count": 7,
   "metadata": {},
   "outputs": [
    {
     "name": "stdout",
     "output_type": "stream",
     "text": [
      "151\n",
      "150\n",
      "50.0\n",
      "49.0\n",
      "48.0\n",
      "16.0\n",
      "15.0\n",
      "5.0\n",
      "4.0\n",
      "3.0\n",
      "1.0\n",
      "11\n"
     ]
    }
   ],
   "source": [
    "import sys\n",
    "\n",
    "#inp = sys.stdin.readline\n",
    "inp = input\n",
    "\n",
    "x = int(inp())\n",
    "\n",
    "def fnc(x):\n",
    "    \n",
    "    \n",
    "    \n",
    "fnc(x)"
   ]
  },
  {
   "cell_type": "code",
   "execution_count": null,
   "metadata": {},
   "outputs": [],
   "source": [
    "152 "
   ]
  }
 ],
 "metadata": {
  "kernelspec": {
   "display_name": "baekjoon",
   "language": "python",
   "name": "python3"
  },
  "language_info": {
   "codemirror_mode": {
    "name": "ipython",
    "version": 3
   },
   "file_extension": ".py",
   "mimetype": "text/x-python",
   "name": "python",
   "nbconvert_exporter": "python",
   "pygments_lexer": "ipython3",
   "version": "3.10.13"
  }
 },
 "nbformat": 4,
 "nbformat_minor": 2
}
