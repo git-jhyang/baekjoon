{
 "cells": [
  {
   "cell_type": "markdown",
   "metadata": {},
   "source": [
    "## 1149 RGB 거리"
   ]
  },
  {
   "cell_type": "markdown",
   "metadata": {},
   "source": [
    "RGB거리에는 집이 N개 있다. 거리는 선분으로 나타낼 수 있고, 1번 집부터 N번 집이 순서대로 있다.\n",
    "\n",
    "집은 빨강, 초록, 파랑 중 하나의 색으로 칠해야 한다. 각각의 집을 빨강, 초록, 파랑으로 칠하는 비용이 주어졌을 때, 아래 규칙을 만족하면서 모든 집을 칠하는 비용의 최솟값을 구해보자.\n",
    "\n",
    "  - 1번 집의 색은 2번 집의 색과 같지 않아야 한다.\n",
    "  - N번 집의 색은 N-1번 집의 색과 같지 않아야 한다.\n",
    "  - i(2 ≤ i ≤ N-1)번 집의 색은 i-1번, i+1번 집의 색과 같지 않아야 한다.\n",
    "  \n",
    "\n",
    "- 입력\n",
    "  - 첫째 줄에 집의 수 N(2 ≤ N ≤ 1,000)이 주어진다. 둘째 줄부터 N개의 줄에는 각 집을 빨강, 초록, 파랑으로 칠하는 비용이 1번 집부터 한 줄에 하나씩 주어진다. 집을 칠하는 비용은 1,000보다 작거나 같은 자연수이다.\n",
    "\n",
    "- 출력\n",
    "  - 첫째 줄에 모든 집을 칠하는 비용의 최솟값을 출력한다."
   ]
  },
  {
   "cell_type": "code",
   "execution_count": 31,
   "metadata": {},
   "outputs": [
    {
     "name": "stdout",
     "output_type": "stream",
     "text": [
      "3199\n"
     ]
    }
   ],
   "source": [
    "import sys\n",
    "#inp = sys.stdin.readline\n",
    "inp = input\n",
    "test = True\n",
    "if not test:\n",
    "    N = int(inp())\n",
    "    V = []\n",
    "    for i in range(N):\n",
    "        V.append(list(map(int, inp().split())))\n",
    "else:\n",
    "    N = 100\n",
    "    V = [\n",
    "        [71, 39, 44],\n",
    "        [32, 83, 55],\n",
    "        [51, 37, 63],\n",
    "        [89, 29, 100],\n",
    "        [83, 58, 11],\n",
    "        [65, 13, 15],\n",
    "        [47, 25, 29],\n",
    "        [60, 66, 19],\n",
    "    ]*500\n",
    "\n",
    "def cost(n):\n",
    "    if n == 0:\n",
    "        return V[0]\n",
    "    r0, g0, b0 = cost(n-1)\n",
    "    r1 = V[n][0] + min(g0, b0)\n",
    "    g1 = V[n][1] + min(r0, b0)\n",
    "    b1 = V[n][2] + min(r0, g0)\n",
    "    return r1, g1, b1\n",
    "\n",
    "print(min(cost(N-1)))"
   ]
  },
  {
   "cell_type": "markdown",
   "metadata": {},
   "source": [
    "C[i][0] = V[i][0] + min(C[i-1][1], C[i-1][2])\n",
    "C[i][1] = V[i][1] + min(C[i-1][0], C[i-1][2])\n",
    "C[i][2] = V[i][2] + min(C[i-1][0], C[i-1][1])\n",
    "final output: min(C[i])"
   ]
  },
  {
   "cell_type": "markdown",
   "metadata": {},
   "source": [
    "## 1205 등수 구하기"
   ]
  },
  {
   "cell_type": "markdown",
   "metadata": {},
   "source": [
    "태수가 즐겨하는 디제이맥스 게임은 각각의 노래마다 랭킹 리스트가 있다. 이것은 매번 게임할 때 마다 얻는 점수가 비오름차순으로 저장되어 있는 것이다.\n",
    "\n",
    "이 랭킹 리스트의 등수는 보통 위에서부터 몇 번째 있는 점수인지로 결정한다. 하지만, 같은 점수가 있을 때는 그러한 점수의 등수 중에 가장 작은 등수가 된다.\n",
    "\n",
    "예를 들어 랭킹 리스트가 100, 90, 90, 80일 때 각각의 등수는 1, 2, 2, 4등이 된다\n",
    "\n",
    "랭킹 리스트에 올라 갈 수 있는 점수의 개수 P가 주어진다. 그리고 리스트에 있는 점수 N개가 비오름차순으로 주어지고, 태수의 새로운 점수가 주어진다. 이때, 태수의 새로운 점수가 랭킹 리스트에서 몇 등 하는지 구하는 프로그램을 작성하시오. 만약 점수가 랭킹 리스트에 올라갈 수 없을 정도로 낮다면 -1을 출력한다.\n",
    "\n",
    "만약, 랭킹 리스트가 꽉 차있을 때, 새 점수가 이전 점수보다 더 좋을 때만 점수가 바뀐다.\n",
    "\n",
    "- 입력\n",
    "  - 첫째 줄에 N, 태수의 새로운 점수, 그리고 P가 주어진다. P는 10보다 크거나 같고, 50보다 작거나 같은 정수, N은 0보다 크거나 같고, P보다 작거나 같은 정수이다. 그리고 모든 점수는 2,000,000,000보다 작거나 같은 자연수 또는 0이다. 둘째 줄에는 현재 랭킹 리스트에 있는 점수가 비오름차순으로 주어진다. 둘째 줄은 N이 0보다 큰 경우에만 주어진다.\n",
    " \n",
    "- 출력\n",
    "  - 첫째 줄에 문제의 정답을 출력한다."
   ]
  },
  {
   "cell_type": "code",
   "execution_count": 70,
   "metadata": {},
   "outputs": [
    {
     "name": "stdout",
     "output_type": "stream",
     "text": [
      "5\n"
     ]
    }
   ],
   "source": [
    "import sys\n",
    "#inp = sys.stdin.readline\n",
    "inp = input\n",
    "\n",
    "test = True\n",
    "if not test:\n",
    "    n, score, p = map(int, inp().split())\n",
    "    if n > 0:\n",
    "        scores = list(map(int, inp().split()))\n",
    "else:\n",
    "    n, score, p = 4, 0, 10\n",
    "    scores = [5, 4, 3, 2]\n",
    "    n = len(scores)\n",
    "\n",
    "if n == 0:\n",
    "    print(1)\n",
    "elif n == p and scores[-1] >= score:\n",
    "    print(-1)\n",
    "elif scores[-1] > score:\n",
    "    print(n + 1)\n",
    "else:\n",
    "    for i, s in enumerate(scores):\n",
    "        if score < s:\n",
    "            continue\n",
    "        print(i+1)\n",
    "        break"
   ]
  },
  {
   "cell_type": "markdown",
   "metadata": {},
   "source": [
    "## 1244 스위치 끄고 켜기"
   ]
  },
  {
   "cell_type": "markdown",
   "metadata": {},
   "source": [
    "\n",
    "1부터 연속적으로 번호가 붙어있는 스위치들이 있다. 스위치는 켜져 있거나 꺼져있는 상태이다. <그림 1>에 스위치 8개의 상태가 표시되어 있다. ‘1’은 스위치가 켜져 있음을, ‘0’은 꺼져 있음을 나타낸다. 그리고 학생 몇 명을 뽑아서, 학생들에게 1 이상이고 스위치 개수 이하인 자연수를 하나씩 나누어주었다. 학생들은 자신의 성별과 받은 수에 따라 아래와 같은 방식으로 스위치를 조작하게 된다.\n",
    "\n",
    "남학생은 스위치 번호가 자기가 받은 수의 배수이면, 그 스위치의 상태를 바꾼다. 즉, 스위치가 켜져 있으면 끄고, 꺼져 있으면 켠다. <그림 1>과 같은 상태에서 남학생이 3을 받았다면, 이 학생은 <그림 2>와 같이 3번, 6번 스위치의 상태를 바꾼다.\n",
    "\n",
    "여학생은 자기가 받은 수와 같은 번호가 붙은 스위치를 중심으로 좌우가 대칭이면서 가장 많은 스위치를 포함하는 구간을 찾아서, 그 구간에 속한 스위치의 상태를 모두 바꾼다. 이때 구간에 속한 스위치 개수는 항상 홀수가 된다.\n",
    "\n",
    "| 스위치 번호 | ① | ② | ③ | ④ | ⑤ | ⑥ | ⑦ | ⑧ |\n",
    "|---|---|---|---|---|---|---|---|---|\n",
    "| 스위치 상태 | 0 | 1 | 0 | 1 | 0 | 0 | 0 | 1 |\n",
    "\n",
    "<그림 1>\n",
    "\n",
    "예를 들어 <그림 2>에서 여학생이 3을 받았다면, 3번 스위치를 중심으로 2번, 4번 스위치의 상태가 같고 1번, 5번 스위치의 상태가 같으므로, <그림 3>과 같이 1번부터 5번까지 스위치의 상태를 모두 바꾼다. 만약 <그림 2>에서 여학생이 4를 받았다면, 3번, 5번 스위치의 상태가 서로 다르므로 4번 스위치의 상태만 바꾼다.\n",
    "\n",
    "| 스위치 번호 | ① | ② | ③ | ④ | ⑤ | ⑥ | ⑦ | ⑧ |\n",
    "|---|---|---|---|---|---|---|---|---|\n",
    "| 스위치 상태 | 0 | 1 | 1 | 1 | 0 | 1 | 0 | 1 |\n",
    "\n",
    "<그림 2>\n",
    "\n",
    "| 스위치 번호 | ① | ② | ③ | ④ | ⑤ | ⑥ | ⑦ | ⑧ |\n",
    "|---|---|---|---|---|---|---|---|---|\n",
    "| 스위치 상태 | 1 | 0 | 0 | 0 | 1 | 1 | 0 | 1 |\n",
    "\n",
    "<그림 3>\n",
    "\n",
    "입력으로 스위치들의 처음 상태가 주어지고, 각 학생의 성별과 받은 수가 주어진다. 학생들은 입력되는 순서대로 자기의 성별과 받은 수에 따라 스위치의 상태를 바꾸었을 때, 스위치들의 마지막 상태를 출력하는 프로그램을 작성하시오.\n",
    "\n",
    "- 입력\n",
    "  - 첫째 줄에는 스위치 개수가 주어진다. \n",
    "  - 스위치 개수는 100 이하인 양의 정수이다.\n",
    "  - 둘째 줄에는 각 스위치의 상태가 주어진다.\n",
    "  - 켜져 있으면 1, 꺼져있으면 0이라고 표시하고 사이에 빈칸이 하나씩 있다.\n",
    "  - 셋째 줄에는 학생수가 주어진다.\n",
    "  - 학생수는 100 이하인 양의 정수이다.\n",
    "  - 넷째 줄부터 마지막 줄까지 한 줄에 한 학생의 성별, 학생이 받은 수가 주어진다.\n",
    "  - 남학생은 1로, 여학생은 2로 표시하고, 학생이 받은 수는 스위치 개수 이하인 양의 정수이다.\n",
    "  - 학생의 성별과 받은 수 사이에 빈칸이 하나씩 있다.\n",
    "\n",
    "- 출력\n",
    "  - 스위치의 상태를 1번 스위치에서 시작하여 마지막 스위치까지 한 줄에 20개씩 출력한다. \n",
    "  - 예를 들어 21번 스위치가 있다면 이 스위치의 상태는 둘째 줄 맨 앞에 출력한다. \n",
    "  - 켜진 스위치는 1, 꺼진 스위치는 0으로 표시하고, 스위치 상태 사이에 빈칸을 하나씩 둔다."
   ]
  },
  {
   "cell_type": "code",
   "execution_count": 72,
   "metadata": {},
   "outputs": [
    {
     "data": {
      "text/plain": [
       "True"
      ]
     },
     "execution_count": 72,
     "metadata": {},
     "output_type": "execute_result"
    }
   ],
   "source": [
    "bool('0')"
   ]
  },
  {
   "cell_type": "code",
   "execution_count": 72,
   "metadata": {},
   "outputs": [
    {
     "name": "stdout",
     "output_type": "stream",
     "text": [
      "0 0 0 0 0 0 0 0|  0|20|1|2\n",
      "0 1 0 1 0 1 0 1|  0|20|2|4\n",
      "2 4 1 8\n",
      "1 5 2 8\n",
      "0 6 3 8\n",
      "0\n",
      "1\n",
      "2\n",
      "3\n",
      "4\n",
      "5\n",
      "6\n",
      "1 0 1 0 1 0 1 1|  0|20|2|7\n",
      "6\n",
      "1 0 1 0 1 0 0 1|  0|20\n"
     ]
    }
   ],
   "source": [
    "import sys\n",
    "inp = sys.stdin.readline\n",
    "\n",
    "test = True\n",
    "if not test:\n",
    "    n = int(inp())\n",
    "    switch = list(map(bool, inp().split()))\n",
    "    m = int(inp())\n",
    "    action = []\n",
    "    for _ in range(m):\n",
    "        action.append(list(map(int, inp().split())))\n",
    "else:\n",
    "    #switch = [False, True, False, True, False, False, False, True] * 2 + [True, True, True, False, True]\n",
    "    switch = [False, False, False, False] * 2\n",
    "    n = len(switch)\n",
    "#    switch = [True, False, True]\n",
    "    action = [\n",
    "        [1, 2], \n",
    "        [2, 4],\n",
    "        [2, 7],\n",
    "#        [1, 7]\n",
    "    ]\n",
    "    m = len(action)\n",
    "\n",
    "for g, i in action:\n",
    "    for k in range(0, n, 20):\n",
    "        out = ' '.join(map(lambda x: str(int(x)), switch[k:k+20]))\n",
    "#        print(f'{out}|  {k}|{k+20}|{g}|{i}')\n",
    "    if g == 1:\n",
    "        for j in range(i-1, n, i):\n",
    "            switch[j] = not switch[j]\n",
    "    else:\n",
    "        w = 0\n",
    "        for j in range(1, n):\n",
    "            if (i - j < 1) or (i + j > n):\n",
    "\n",
    "                break\n",
    "            if switch[i-1-j] == switch[i-1+j]:\n",
    "                w += 1\n",
    "#                print(i-1-j, i-1+j, w, n)\n",
    "            else:\n",
    "                break\n",
    "        for j in range(i-1-w, i+w):\n",
    "#            print(j)\n",
    "            switch[j] = not switch[j]\n",
    "            \n",
    "for i in range(0, n, 20):\n",
    "    print(' '.join(map(lambda x: str(int(x)), switch[i:i+20])))\n",
    "#    out = ' '.join(map(lambda x: str(int(x)), switch[i:i+20]))\n",
    "#    print(f'{out}|  {i}|{i+20}')"
   ]
  },
  {
   "cell_type": "markdown",
   "metadata": {},
   "source": [
    "## 1463 1로 만들기 / DP"
   ]
  },
  {
   "cell_type": "markdown",
   "metadata": {},
   "source": [
    "정수 X에 사용할 수 있는 연산은 다음과 같이 세 가지 이다.\n",
    "\n",
    "- X가 3으로 나누어 떨어지면, 3으로 나눈다.\n",
    "- X가 2로 나누어 떨어지면, 2로 나눈다.\n",
    "- 1을 뺀다.\n",
    "\n",
    "정수 N이 주어졌을 때, 위와 같은 연산 세 개를 적절히 사용해서 1을 만들려고 한다. 연산을 사용하는 횟수의 최솟값을 출력하시오.\n",
    "\n",
    "- 입력\n",
    "  - 첫째 줄에 1보다 크거나 같고, 10^6보다 작거나 같은 정수 N이 주어진다.\n",
    " \n",
    "- 출력\n",
    "  - 첫째 줄에 연산을 하는 횟수의 최솟값을 출력한다."
   ]
  },
  {
   "cell_type": "code",
   "execution_count": 35,
   "metadata": {},
   "outputs": [
    {
     "name": "stdout",
     "output_type": "stream",
     "text": [
      "3\n"
     ]
    }
   ],
   "source": [
    "# Top-down\n",
    "\n",
    "import sys, time\n",
    "\n",
    "#inp = sys.stdin.readline\n",
    "inp = input\n",
    "x = int(inp())\n",
    "\n",
    "td_output = {0:0, 1:0, 2:1, 3:1}\n",
    "def td_fnc(x):\n",
    "    if x in td_output.keys():\n",
    "        return td_output[x]\n",
    "    if x % 6 == 0:\n",
    "        td_output[x] = min(td_fnc(x // 3), td_fnc(x // 2)) + 1\n",
    "    elif x % 3 == 0:\n",
    "        td_output[x] = min(td_fnc(x // 3), td_fnc(x-1)) + 1\n",
    "    elif x % 2 == 0:\n",
    "        td_output[x] = min(td_fnc(x // 2), td_fnc(x-1)) + 1\n",
    "    else:\n",
    "        td_output[x] = td_fnc(x - 1) + 1\n",
    "    return td_output[x]\n",
    "print(td_fnc(x))\n"
   ]
  },
  {
   "cell_type": "code",
   "execution_count": null,
   "metadata": {},
   "outputs": [],
   "source": [
    "# Bottom-up\n",
    "bu_output = [0] * 1000000\n",
    "\n",
    "def _fnc(x):\n",
    "    if x == 1:\n",
    "        return 0\n",
    "    bu_output[x] = bu_output[x-1] + 1\n",
    "    if x % 6 == 0:\n",
    "        bu_output[x] = min(bu_output[x], min(bu_output[x // 3], bu_output[x // 2]) + 1)\n",
    "    elif x % 3 == 0:\n",
    "        bu_output[x] = min(bu_output[x // 3] + 1, bu_output[x])\n",
    "    elif x % 2 == 0:\n",
    "        bu_output[x] = min(bu_output[x // 2] + 1, bu_output[x])\n",
    "    return bu_output[x]\n",
    "\n",
    "def bu_fnc(x):\n",
    "    for i in range(2, x+1):\n",
    "        _fnc(i)\n",
    "    return bu_output[x]\n",
    "\n",
    "ts = []\n",
    "for x in range(4, 80000): # ~10 min for 80000\n",
    "    td_output = {0:0, 1:0, 2:1, 3:1}\n",
    "    bu_output = [0] * 1000000\n",
    "    t1 = time.time()\n",
    "    a = td_fnc(x)\n",
    "    t2 = time.time()\n",
    "    t3 = time.time()\n",
    "    b = bu_fnc(x)\n",
    "    t4 = time.time()\n",
    "    if a != b: print(x, a, b)\n",
    "    ts.append([t2-t1, t4-t3])"
   ]
  },
  {
   "cell_type": "markdown",
   "metadata": {},
   "source": [
    "4  : 2 \n",
    "5  : 4 \n",
    "6  : 3 \n",
    "7  : 6 \n",
    "8  : 4 \n",
    "9  : 3 \n",
    "10 : 9 \n",
    "11 : 10 \n",
    "12 : 6\n",
    "13 : 12 \n",
    "14 : 7 \n",
    "15 : 5\n",
    "16 : 8\n",
    "17 : 16\n",
    "18 : 9 3 1 / 6 3 1\n",
    "19 : 18\n",
    "20 : 10\n",
    "24 : 12 6 3 1 / 8 4 2 1\n",
    "30 : 10 9 3 1 / 15 5 4 2 1 \n",
    "\n",
    "f(n) = min(f(n/2), f(n/3), f(n-1)) +1\n",
    "6배수, 3배수, 2배수의 경우를 나눠야 함.\n"
   ]
  },
  {
   "cell_type": "code",
   "execution_count": 50,
   "metadata": {},
   "outputs": [
    {
     "data": {
      "text/plain": [
       "<matplotlib.legend.Legend at 0x7f410913e530>"
      ]
     },
     "execution_count": 50,
     "metadata": {},
     "output_type": "execute_result"
    },
    {
     "data": {
      "image/png": "[encoded data removed]",
      "text/plain": [
       "<Figure size 640x480 with 1 Axes>"
      ]
     },
     "metadata": {},
     "output_type": "display_data"
    }
   ],
   "source": [
    "import numpy as np\n",
    "import matplotlib.pyplot as plt\n",
    "td, bu = np.array(ts).T\n",
    "plt.plot(range(td.shape[0]), td, label='top-down')\n",
    "plt.plot(range(td.shape[0]), bu, label='buttom-up')\n",
    "plt.legend(loc='upper left')\n"
   ]
  }
 ],
 "metadata": {
  "kernelspec": {
   "display_name": "baekjoon",
   "language": "python",
   "name": "python3"
  },
  "language_info": {
   "codemirror_mode": {
    "name": "ipython",
    "version": 3
   },
   "file_extension": ".py",
   "mimetype": "text/x-python",
   "name": "python",
   "nbconvert_exporter": "python",
   "pygments_lexer": "ipython3",
   "version": "3.10.13"
  }
 },
 "nbformat": 4,
 "nbformat_minor": 2
}
