{
 "cells": [
  {
   "cell_type": "markdown",
   "metadata": {},
   "source": [
    "## 13460 구슬 탈출 2"
   ]
  },
  {
   "cell_type": "markdown",
   "metadata": {},
   "source": [
    "스타트링크에서 판매하는 어린이용 장난감 중에서 가장 인기가 많은 제품은 구슬 탈출이다. 구슬 탈출은 직사각형 보드에 빨간 구슬과 파란 구슬을 하나씩 넣은 다음, 빨간 구슬을 구멍을 통해 빼내는 게임이다.\n",
    "\n",
    "보드의 세로 크기는 N, 가로 크기는 M이고, 편의상 1×1크기의 칸으로 나누어져 있다. 가장 바깥 행과 열은 모두 막혀져 있고, 보드에는 구멍이 하나 있다. 빨간 구슬과 파란 구슬의 크기는 보드에서 1×1크기의 칸을 가득 채우는 사이즈이고, 각각 하나씩 들어가 있다. 게임의 목표는 빨간 구슬을 구멍을 통해서 빼내는 것이다. 이때, 파란 구슬이 구멍에 들어가면 안 된다.\n",
    "\n",
    "이때, 구슬을 손으로 건드릴 수는 없고, 중력을 이용해서 이리 저리 굴려야 한다. 왼쪽으로 기울이기, 오른쪽으로 기울이기, 위쪽으로 기울이기, 아래쪽으로 기울이기와 같은 네 가지 동작이 가능하다.\n",
    "\n",
    "각각의 동작에서 공은 동시에 움직인다. 빨간 구슬이 구멍에 빠지면 성공이지만, 파란 구슬이 구멍에 빠지면 실패이다. 빨간 구슬과 파란 구슬이 동시에 구멍에 빠져도 실패이다. 빨간 구슬과 파란 구슬은 동시에 같은 칸에 있을 수 없다. 또, 빨간 구슬과 파란 구슬의 크기는 한 칸을 모두 차지한다. 기울이는 동작을 그만하는 것은 더 이상 구슬이 움직이지 않을 때 까지이다.\n",
    "\n",
    "보드의 상태가 주어졌을 때, 최소 몇 번 만에 빨간 구슬을 구멍을 통해 빼낼 수 있는지 구하는 프로그램을 작성하시오.\n",
    "\n",
    "- 입력\n",
    "  - 첫 번째 줄에는 보드의 세로, 가로 크기를 의미하는 두 정수 N, M (3 ≤ N, M ≤ 10)이 주어진다. \n",
    "  - 다음 N개의 줄에 보드의 모양을 나타내는 길이 M의 문자열이 주어진다. \n",
    "  - 이 문자열은 '.', '#', 'O', 'R', 'B' 로 이루어져 있다. \n",
    "  - '.'은 빈 칸을 의미하고, '#'은 공이 이동할 수 없는 장애물 또는 벽을 의미하며, 'O'는 구멍의 위치를 의미한다. \n",
    "  - 'R'은 빨간 구슬의 위치, 'B'는 파란 구슬의 위치이다.\n",
    "  - 입력되는 모든 보드의 가장자리에는 모두 '#'이 있다. 구멍의 개수는 한 개 이며, 빨간 구슬과 파란 구슬은 항상 1개가 주어진다.\n",
    "\n",
    "- 출력\n",
    "  - 최소 몇 번 만에 빨간 구슬을 구멍을 통해 빼낼 수 있는지 출력한다. 만약, 10번 이하로 움직여서 빨간 구슬을 구멍을 통해 빼낼 수 없으면 -1을 출력한다."
   ]
  },
  {
   "cell_type": "code",
   "execution_count": 1,
   "metadata": {},
   "outputs": [
    {
     "ename": "IndentationError",
     "evalue": "expected an indented block after 'else' statement on line 42 (3194720736.py, line 43)",
     "output_type": "error",
     "traceback": [
      "\u001b[0;36m  Cell \u001b[0;32mIn[1], line 43\u001b[0;36m\u001b[0m\n\u001b[0;31m    if j != 0:\u001b[0m\n\u001b[0m    ^\u001b[0m\n\u001b[0;31mIndentationError\u001b[0m\u001b[0;31m:\u001b[0m expected an indented block after 'else' statement on line 42\n"
     ]
    }
   ],
   "source": [
    "n, m = 5, 5\n",
    "board = [\n",
    "    '#####',\n",
    "    '#..B#',\n",
    "    '#.#.#',\n",
    "    '#RO.#',\n",
    "    '#####',\n",
    "]\n",
    "board = [list(b) for b in board]\n",
    "\n",
    "for i in range(n):\n",
    "    for j in range(m):\n",
    "        if board[i][j] == 'R':\n",
    "            red = i, j\n",
    "        if board[i][j] == 'B':\n",
    "            blue = i, j\n",
    "        if board[i][j] == 'O':\n",
    "            goal = i, j\n",
    "\n",
    "print(red, blue, goal)\n",
    "red_x, red_y = red\n",
    "red_line = [board[i][red_y] for i in range(n)]\n",
    "\n",
    "def check(i, c):\n",
    "    # stop_move, is_out, step\n",
    "    if c in ['#','B','R']:\n",
    "        return True, False, i\n",
    "    if c == 'O':\n",
    "        return True, True, i+1\n",
    "    else:\n",
    "        return False, False, i\n",
    "\n",
    "def move_ball(ball, direction):\n",
    "    x, y = ball\n",
    "    if direction == 'up':\n",
    "        line = [board[i][y] for i in range(n)]\n",
    "        for i, c in enumerate(line[:y][::-1]):\n",
    "            is_fin, is_goal, j = check(i, c)\n",
    "            if is_fin:\n",
    "                break\n",
    "        if is_goal:\n",
    "            return is_goal, 1\n",
    "        else:\n",
    "            \n",
    "        if j != 0:\n",
    "            board[x][y-i] = board[x][y]\n",
    "            board[x][y] = '.'\n",
    "            return goal_in, 1\n",
    "        else:\n",
    "            return False, 0\n",
    "    elif direction == 'down':\n",
    "        line = [board[i][y] for i in range(n)]\n",
    "        for i, c in enumerate(line[y+1:]):\n",
    "            is_fin, is_goal, j = check(i, c)\n",
    "            if is_fin: \n",
    "                break\n",
    "        if is_goal:\n",
    "            return is_goal, 1\n",
    "        if i != 0:\n",
    "            board[x][y+i] = board[x][y]\n",
    "            board[x][y] = '.'\n",
    "            return goal_in, 1\n",
    "        else:\n",
    "            return False, 0\n",
    "    elif direction == 'left':\n",
    "        line = [board[x][i] for i in range(m)]\n",
    "    elif direction == 'right':\n",
    "\n",
    "\n",
    "    \n",
    "\n",
    "\n",
    "    return\n",
    "\n",
    "\n",
    "\n",
    "def move_up(red, blue, step):\n",
    "    if red[1] == blue[1] and blue[1] > red[1]:\n",
    "        pass\n",
    "\n",
    "    return red_, blue_\n",
    "\n",
    "def move_down(red, blue, step):\n",
    "    if red[1] == blue[1] and blue[1] < red[1]:\n",
    "        pass\n",
    "\n",
    "    return red_, blue_\n",
    "\n",
    "def move_left(red, blue, step):\n",
    "\n",
    "    return red_, blue_\n",
    "\n",
    "def move_right(red, blue, step):\n",
    "\n",
    "    return red_, blue_"
   ]
  },
  {
   "cell_type": "code",
   "execution_count": 2,
   "metadata": {},
   "outputs": [
    {
     "ename": "NameError",
     "evalue": "name 'red' is not defined",
     "output_type": "error",
     "traceback": [
      "\u001b[0;31m---------------------------------------------------------------------------\u001b[0m",
      "\u001b[0;31mNameError\u001b[0m                                 Traceback (most recent call last)",
      "Cell \u001b[0;32mIn[2], line 1\u001b[0m\n\u001b[0;32m----> 1\u001b[0m \u001b[38;5;28mprint\u001b[39m(\u001b[43mred\u001b[49m, blue, goal)\n\u001b[1;32m      2\u001b[0m x, y \u001b[38;5;241m=\u001b[39m red\n\u001b[1;32m      3\u001b[0m line \u001b[38;5;241m=\u001b[39m [board[i][y] \u001b[38;5;28;01mfor\u001b[39;00m i \u001b[38;5;129;01min\u001b[39;00m \u001b[38;5;28mrange\u001b[39m(n)]\n",
      "\u001b[0;31mNameError\u001b[0m: name 'red' is not defined"
     ]
    }
   ],
   "source": [
    "print(red, blue, goal)\n",
    "x, y = red\n",
    "line = [board[i][y] for i in range(n)]\n",
    "line = [board[x][i] for i in range(m)]\n",
    "\n",
    "#for i, c in enumerate(line[:y][::-1]):\n",
    "#    \n",
    "#    print(i,c)\n",
    "step = 0\n"
   ]
  }
 ],
 "metadata": {
  "kernelspec": {
   "display_name": "baekjoon",
   "language": "python",
   "name": "python3"
  },
  "language_info": {
   "codemirror_mode": {
    "name": "ipython",
    "version": 3
   },
   "file_extension": ".py",
   "mimetype": "text/x-python",
   "name": "python",
   "nbconvert_exporter": "python",
   "pygments_lexer": "ipython3",
   "version": "3.10.13"
  }
 },
 "nbformat": 4,
 "nbformat_minor": 2
}
